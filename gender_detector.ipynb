{
 "cells": [
  {
   "cell_type": "code",
   "execution_count": 59,
   "id": "1f83f24c",
   "metadata": {},
   "outputs": [],
   "source": [
    "import numpy as np\n",
    "from PIL import Image\n",
    "import matplotlib.pyplot as plt\n",
    "import cv2\n",
    "%matplotlib inline\n",
    "from glob import glob\n",
    "import pickle\n",
    "import pandas as pd"
   ]
  },
  {
   "cell_type": "code",
   "execution_count": 60,
   "id": "cbc352a8",
   "metadata": {},
   "outputs": [
    {
     "name": "stdout",
     "output_type": "stream",
     "text": [
      "model load sucessfully\n"
     ]
    }
   ],
   "source": [
    "haar=cv2.CascadeClassifier('haarcascade_frontalface_default.xml')\n",
    "mean=pickle.load(open('dataset/mean_preprocessing.pickle','rb'))\n",
    "modle_svm=pickle.load(open('dataset/model_svm.pickle','rb'))\n",
    "modle_pca=pickle.load(open('dataset/pca_50.pickle','rb'))\n",
    "print('model load sucessfully')"
   ]
  },
  {
   "cell_type": "code",
   "execution_count": 61,
   "id": "a45f4978",
   "metadata": {},
   "outputs": [],
   "source": [
    "\n",
    "gender_pre=['male','female']\n",
    "font=cv2.FONT_HERSHEY_SIMPLEX"
   ]
  },
  {
   "cell_type": "code",
   "execution_count": 130,
   "id": "aa1d2513",
   "metadata": {},
   "outputs": [],
   "source": [
    "\n",
    "#convert into gray scale\n",
    "def pipeline_model(img,color='rgb'):\n",
    "    if color =='bgr':\n",
    "        gray_cv=cv2.cvtColor(img,cv2.COLOR_BGR2GRAY)\n",
    "    else:\n",
    "        gray_cv=cv2.cvtColor(img,cv2.COLOR_BGR2GRAY)\n",
    "    #crop face\n",
    "    face=haar.detectMultiScale(gray_cv,1.3,3)\n",
    "    for x,y,w,h in face:\n",
    "        cv2.rectangle(img,(x,y),(x+h,y+h),(0,255,0),2)#drawing rectangle\n",
    "        roi=gray_cv[y:y+h,x:x+w] #croping image\n",
    "        # normalization\n",
    "        roi=roi/255.0\n",
    "        # resize iamge 100x100\n",
    "        if roi.shape[1]>30:\n",
    "            roi_resize=cv2.resize(roi,(100,100),cv2.INTER_AREA)\n",
    "        else:\n",
    "            roi_resize=cv2.resize(roi,(100,100),cv2.INTER_CUBIC)\n",
    "        # FLATTENING\n",
    "        roi_reshape=roi_resize.reshape(1,10000)\n",
    "        # subtract with mean\n",
    "        roi_mean=roi_reshape-mean\n",
    "        # get eigen image\n",
    "        eigen_image=modle_pca.transform(roi_mean)\n",
    "        # pass to ml model\n",
    "        result=modle_svm.predict_proba(eigen_image)[0]\n",
    "        # prediction and score\n",
    "        predict=result.argmax()\n",
    "        score=result[predict]\n",
    "        # step 11\n",
    "        text=\"%s :%0.2f\"%(gender_pre[predict],score)\n",
    "        cv2.putText(img,text,(x,y),font,1,(0,255,0),2)\n",
    "    return img\n"
   ]
  },
  {
   "cell_type": "code",
   "execution_count": 131,
   "id": "d6f4fc83",
   "metadata": {},
   "outputs": [],
   "source": [
    "#read image\n",
    "test_data_path='bb.jpg'\n",
    "img=Image.open(test_data_path) #accepted pic in RGB\n",
    "color='bgr'\n",
    "# convert into array\n",
    "img=np.array(img)\n",
    "# pass to pipeline model\n",
    "img=pipeline_model(img)\n",
    "cv2.imshow('gender',img)\n",
    "cv2.waitKey(0)\n",
    "cv2.destroyAllWindows()\n"
   ]
  },
  {
   "cell_type": "code",
   "execution_count": 103,
   "id": "13906537",
   "metadata": {},
   "outputs": [],
   "source": [
    "# apply pipeline model to video\n",
    "cap=cv2.VideoCapture('vid3.mp4')\n",
    "\n",
    "while True:\n",
    "    ret,frame=cap.read()\n",
    "    \n",
    "    if ret==False:\n",
    "        break\n",
    "    frame=pipeline_model(frame,color='bgr')\n",
    "    cv2.imshow('gender_detection',frame)\n",
    "    if cv2.waitKey(20)==27:\n",
    "        break\n",
    "cv2.destroyAllWindows()\n",
    "cap.release()"
   ]
  },
  {
   "cell_type": "code",
   "execution_count": null,
   "id": "bac29518",
   "metadata": {},
   "outputs": [],
   "source": []
  },
  {
   "cell_type": "code",
   "execution_count": null,
   "id": "235dd4f1",
   "metadata": {},
   "outputs": [],
   "source": []
  }
 ],
 "metadata": {
  "kernelspec": {
   "display_name": "Python 3 (ipykernel)",
   "language": "python",
   "name": "python3"
  },
  "language_info": {
   "codemirror_mode": {
    "name": "ipython",
    "version": 3
   },
   "file_extension": ".py",
   "mimetype": "text/x-python",
   "name": "python",
   "nbconvert_exporter": "python",
   "pygments_lexer": "ipython3",
   "version": "3.9.1"
  }
 },
 "nbformat": 4,
 "nbformat_minor": 5
}
